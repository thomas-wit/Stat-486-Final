{
 "cells": [
  {
   "cell_type": "code",
   "execution_count": null,
   "metadata": {},
   "outputs": [],
   "source": [
    "import pandas as pd\n",
    "\n"
   ]
  },
  {
   "cell_type": "code",
   "execution_count": null,
   "metadata": {},
   "outputs": [
    {
     "name": "stdout",
     "output_type": "stream",
     "text": [
      "Merged file saved to merged_books.csv\n"
     ]
    }
   ],
   "source": [
    "\n",
    "# Load the two CSV files into pandas DataFrames\n",
    "file1 = \"books_data.csv\"  # Replace with your first file name\n",
    "file2 = \"Books_rating.csv\"  # Replace with your second file name\n",
    "\n",
    "df1 = pd.read_csv(file1)\n",
    "df2 = pd.read_csv(file2)\n",
    "\n",
    "# Merge the two DataFrames on the 'Book Title' column\n",
    "merged_df = pd.merge(df1, df2, on=\"Title\", how=\"inner\")  # Use 'left', 'right', or 'outer' if needed\n",
    "\n",
    "# Save the merged DataFrame to a new CSV file\n",
    "output_file = \"merged_books.csv\"\n",
    "merged_df.to_csv(output_file, index=False)\n",
    "\n",
    "print(f\"Merged file saved to {output_file}\")"
   ]
  },
  {
   "cell_type": "code",
   "execution_count": 7,
   "metadata": {},
   "outputs": [],
   "source": [
    "data = pd.read_csv(\"merged_books.csv\")"
   ]
  },
  {
   "cell_type": "code",
   "execution_count": 11,
   "metadata": {},
   "outputs": [],
   "source": [
    "# reading in the merged data\n",
    "import pandas as pd\n",
    "data = pd.read_csv(\"merged_books.csv\")"
   ]
  },
  {
   "cell_type": "code",
   "execution_count": 12,
   "metadata": {},
   "outputs": [],
   "source": [
    "from fractions import Fraction\n",
    "import numpy as np\n",
    "books = data \n",
    "# Convert the 'review/helpfulness' column to decimals\n",
    "books.loc[books.loc[:,'review/helpfulness']!='0/0','review/helpfulness'] = books.loc[books.loc[:,'review/helpfulness']!='0/0','review/helpfulness'].apply(lambda x: float(Fraction(x)))\n",
    "books['review/helpfulness'] = pd.to_numeric(data['review/helpfulness'], errors='coerce')"
   ]
  },
  {
   "cell_type": "code",
   "execution_count": 13,
   "metadata": {},
   "outputs": [],
   "source": [
    "# fixing the date column\n",
    "def parse_partial_date(date_str):\n",
    "    if pd.isna(date_str):\n",
    "        return np.nan\n",
    "    try:\n",
    "        # Try to parse full date\n",
    "        return pd.to_datetime(date_str, format='%Y-%m-%d')\n",
    "    except ValueError:\n",
    "        try:\n",
    "            # Try to parse year-month\n",
    "            return pd.to_datetime(date_str, format='%Y-%m')\n",
    "        except ValueError:\n",
    "            try:\n",
    "                # Try to parse just year\n",
    "                return pd.to_datetime(date_str, format='%Y')\n",
    "            except ValueError:\n",
    "                return np.nan\n",
    "books['parsedDate'] = books['publishedDate'].apply(parse_partial_date)"
   ]
  },
  {
   "cell_type": "code",
   "execution_count": 14,
   "metadata": {},
   "outputs": [
    {
     "name": "stdout",
     "output_type": "stream",
     "text": [
      "Sample saved to 'books_subset.csv'\n"
     ]
    }
   ],
   "source": [
    "# Take a 1% random sample\n",
    "sample_df = books.sample(frac=0.01, random_state=42)  # Set random_state for reproducibility\n",
    "\n",
    "# Save the sample to a new CSV file\n",
    "sample_df.to_csv(\"books_subset.csv\", index=False)  # Replace with your desired output file name\n",
    "\n",
    "print(\"Sample saved to 'books_subset.csv'\")"
   ]
  },
  {
   "cell_type": "code",
   "execution_count": null,
   "metadata": {},
   "outputs": [],
   "source": [
    "sample_df = pd.read_csv(\"books_subset.csv\")"
   ]
  },
  {
   "cell_type": "code",
   "execution_count": 14,
   "metadata": {},
   "outputs": [
    {
     "data": {
      "text/plain": [
       "0         1996-01-01\n",
       "1         2005-01-01\n",
       "2         2005-01-01\n",
       "3         2005-01-01\n",
       "4         2005-01-01\n",
       "             ...    \n",
       "2999995   2003-08-12\n",
       "2999996   1998-01-01\n",
       "2999997   1998-01-01\n",
       "2999998   1998-01-01\n",
       "2999999   1998-01-01\n",
       "Name: parsedDate, Length: 3000000, dtype: datetime64[ns]"
      ]
     },
     "execution_count": 14,
     "metadata": {},
     "output_type": "execute_result"
    }
   ],
   "source": [
    "books.loc[:,'parsedDate']"
   ]
  },
  {
   "cell_type": "code",
   "execution_count": 6,
   "metadata": {},
   "outputs": [
    {
     "name": "stdout",
     "output_type": "stream",
     "text": [
      "Numeric Variable Summary:\n",
      "                         count        mean         std  min    25%        50%  \\\n",
      "Price                481171.0   21.762656   26.206541  1.0  10.78  14.930000   \n",
      "review/helpfulness  2114268.0    0.698728    0.345454  0.0   0.50   0.833333   \n",
      "ratingsCount        1639306.0  272.064662  788.772080  1.0   3.00  10.000000   \n",
      "review/score        3000000.0    4.215289    1.203054  1.0   4.00   5.000000   \n",
      "\n",
      "                      75%     max  \n",
      "Price               23.95   995.0  \n",
      "review/helpfulness   1.00     3.0  \n",
      "ratingsCount        55.00  4895.0  \n",
      "review/score         5.00     5.0  \n",
      "\n",
      "Categorical Variable Summary:\n",
      "\n",
      "authors - Sample size: 127278\n",
      "Category counts:\n",
      "authors\n",
      "['J. R. R. Tolkien']             37268\n",
      "['Jane Austen']                  36532\n",
      "['Charles Dickens']              21270\n",
      "['John Steinbeck']               17027\n",
      "['John Ronald Reuel Tolkien']    12906\n",
      "['Lewis Carroll']                12847\n",
      "['Kurt Vonnegut']                12124\n",
      "['Harper Lee']                   12013\n",
      "['Emily Bronte']                 11872\n",
      "['C. S. Lewis']                  11824\n",
      "Name: count, dtype: int64\n",
      "categories - Sample size: 10883\n",
      "Category counts:\n",
      "categories\n",
      "['Fiction']                      824439\n",
      "['Juvenile Fiction']             207542\n",
      "['Biography & Autobiography']    107791\n",
      "['Religion']                      98035\n",
      "['History']                       89988\n",
      "['Business & Economics']          65618\n",
      "['Computers']                     42403\n",
      "['Social Science']                31072\n",
      "['Cooking']                       29895\n",
      "['Family & Relationships']        29277\n",
      "Name: count, dtype: int64\n",
      "publisher - Sample size: 16016\n",
      "Category counts:\n",
      "publisher\n",
      "Penguin                      137071\n",
      "Simon and Schuster           118101\n",
      "Harper Collins                84926\n",
      "Random House                  46241\n",
      "Vintage                       41792\n",
      "Courier Corporation           37589\n",
      "HarperCollins                 30218\n",
      "Mariner Books                 30154\n",
      "Macmillan                     29323\n",
      "Houghton Mifflin Harcourt     28306\n",
      "Name: count, dtype: int64\n"
     ]
    }
   ],
   "source": [
    "# creating summary statistics for variables in data\n",
    "numeric_vars = ['Price', 'review/helpfulness', 'ratingsCount', 'review/score']\n",
    "\n",
    "summary_stats = data[numeric_vars].describe().T\n",
    "\n",
    "categorical_vars = ['authors', 'categories', 'publisher']\n",
    "\n",
    "categorical_summary = {}\n",
    "for var in categorical_vars:\n",
    "    categorical_summary[var] = {\n",
    "        'sample_size': data[var].nunique(),\n",
    "        'category_counts': data[var].value_counts()\n",
    "    }\n",
    "# Combine numeric and categorical data summaries for easy reporting\n",
    "print(\"Numeric Variable Summary:\\n\", summary_stats)\n",
    "print(\"\\nCategorical Variable Summary:\\n\")\n",
    "for var, summary in categorical_summary.items():\n",
    "    print(f\"{var} - Sample size: {summary['sample_size']}\")\n",
    "    print(f\"Category counts:\\n{summary['category_counts'].head(10)}\")  # Show top 10 counts for brevity\n"
   ]
  },
  {
   "cell_type": "code",
   "execution_count": 8,
   "metadata": {},
   "outputs": [
    {
     "data": {
      "image/png": "[encoded data removed]",
      "text/plain": [
       "<Figure size 800x600 with 2 Axes>"
      ]
     },
     "metadata": {},
     "output_type": "display_data"
    }
   ],
   "source": [
    "import seaborn as sns\n",
    "import matplotlib.pyplot as plt\n",
    "\n",
    "# Creating the correlation matrix for numeric variables\n",
    "corr_matrix = data[numeric_vars].corr()\n",
    "\n",
    "# Plotting the correlation heatmap\n",
    "plt.figure(figsize=(8, 6))  # Adjust the size as needed\n",
    "sns.heatmap(corr_matrix, annot=True, cmap='coolwarm', fmt='.2f', linewidths=0.5)\n",
    "\n",
    "# Display the plot\n",
    "plt.title('Correlation Plot of Numeric Variables')\n",
    "plt.show()"
   ]
  },
  {
   "cell_type": "markdown",
   "metadata": {},
   "source": [
    "First step, see if we can get some simple models going here to predict ratings based off of the tabular aspect"
   ]
  },
  {
   "cell_type": "code",
   "execution_count": 15,
   "metadata": {},
   "outputs": [],
   "source": [
    "sample_df = pd.read_csv(\"books_subset.csv\")"
   ]
  },
  {
   "cell_type": "code",
   "execution_count": 18,
   "metadata": {},
   "outputs": [],
   "source": [
    "tabular_df = sample_df.drop(columns=['description', 'Title', 'image', 'previewLink', 'infoLink', 'Id', 'User_id', 'profileName', 'review/summary', 'review/text', 'publishedDate'])"
   ]
  },
  {
   "cell_type": "code",
   "execution_count": 41,
   "metadata": {},
   "outputs": [],
   "source": [
    "from sklearn.pipeline import Pipeline\n",
    "from sklearn.impute import SimpleImputer\n",
    "from sklearn.compose import ColumnTransformer\n",
    "from sklearn.preprocessing import StandardScaler, OneHotEncoder, PolynomialFeatures\n",
    "import seaborn as sns\n",
    "import matplotlib.pyplot as plt\n",
    "from sklearn.ensemble import RandomForestRegressor\n",
    "import numpy as np\n",
    "from sklearn.model_selection import train_test_split\n"
   ]
  },
  {
   "cell_type": "code",
   "execution_count": 37,
   "metadata": {},
   "outputs": [],
   "source": [
    "# tabular_df.head()\n",
    "tabular_df['review/time'] = pd.to_datetime(tabular_df['review/time'], unit='s')\n",
    "## Drop all rows where author is NA\n",
    "tabular_df = tabular_df.dropna(subset=['authors'])\n",
    "X = tabular_df.drop(columns=['review/score'])\n",
    "y = tabular_df['review/score']"
   ]
  },
  {
   "cell_type": "code",
   "execution_count": 38,
   "metadata": {},
   "outputs": [],
   "source": [
    "X_train, X_test, y_train, y_test = train_test_split(X, y, random_state=307)\n"
   ]
  },
  {
   "cell_type": "markdown",
   "metadata": {},
   "source": []
  },
  {
   "cell_type": "code",
   "execution_count": null,
   "metadata": {},
   "outputs": [
    {
     "ename": "IndexError",
     "evalue": "Index dimension must be 1 or 2",
     "output_type": "error",
     "traceback": [
      "\u001b[0;31m---------------------------------------------------------------------------\u001b[0m",
      "\u001b[0;31mIndexError\u001b[0m                                Traceback (most recent call last)",
      "Cell \u001b[0;32mIn[44], line 36\u001b[0m\n\u001b[1;32m     34\u001b[0m \u001b[38;5;66;03m# Transform x_test now\u001b[39;00m\n\u001b[1;32m     35\u001b[0m Xpp_test \u001b[38;5;241m=\u001b[39m pipe\u001b[38;5;241m.\u001b[39mtransform(X_test)\n\u001b[0;32m---> 36\u001b[0m \u001b[43mXpp\u001b[49m\u001b[43m[\u001b[49m\u001b[38;5;124;43m'\u001b[39;49m\u001b[38;5;124;43mparsedDate\u001b[39;49m\u001b[38;5;124;43m'\u001b[39;49m\u001b[43m]\u001b[49m \u001b[38;5;241m=\u001b[39m X_train[\u001b[38;5;124m'\u001b[39m\u001b[38;5;124mparsedDate\u001b[39m\u001b[38;5;124m'\u001b[39m]\n\u001b[1;32m     37\u001b[0m Xpp_test[\u001b[38;5;124m'\u001b[39m\u001b[38;5;124mparsedDate\u001b[39m\u001b[38;5;124m'\u001b[39m] \u001b[38;5;241m=\u001b[39m X_test[\u001b[38;5;124m'\u001b[39m\u001b[38;5;124mparsedDate\u001b[39m\u001b[38;5;124m'\u001b[39m]\n\u001b[1;32m     38\u001b[0m Xpp[\u001b[38;5;124m'\u001b[39m\u001b[38;5;124mreview/time\u001b[39m\u001b[38;5;124m'\u001b[39m] \u001b[38;5;241m=\u001b[39m X_train[\u001b[38;5;124m'\u001b[39m\u001b[38;5;124mreview/time\u001b[39m\u001b[38;5;124m'\u001b[39m]\n",
      "File \u001b[0;32m~/.local/lib/python3.10/site-packages/scipy/sparse/_index.py:94\u001b[0m, in \u001b[0;36mIndexMixin.__setitem__\u001b[0;34m(self, key, x)\u001b[0m\n\u001b[1;32m     93\u001b[0m \u001b[38;5;28;01mdef\u001b[39;00m \u001b[38;5;21m__setitem__\u001b[39m(\u001b[38;5;28mself\u001b[39m, key, x):\n\u001b[0;32m---> 94\u001b[0m     row, col \u001b[38;5;241m=\u001b[39m \u001b[38;5;28;43mself\u001b[39;49m\u001b[38;5;241;43m.\u001b[39;49m\u001b[43m_validate_indices\u001b[49m\u001b[43m(\u001b[49m\u001b[43mkey\u001b[49m\u001b[43m)\u001b[49m\n\u001b[1;32m     96\u001b[0m     \u001b[38;5;28;01mif\u001b[39;00m \u001b[38;5;28misinstance\u001b[39m(row, INT_TYPES) \u001b[38;5;129;01mand\u001b[39;00m \u001b[38;5;28misinstance\u001b[39m(col, INT_TYPES):\n\u001b[1;32m     97\u001b[0m         x \u001b[38;5;241m=\u001b[39m np\u001b[38;5;241m.\u001b[39masarray(x, dtype\u001b[38;5;241m=\u001b[39m\u001b[38;5;28mself\u001b[39m\u001b[38;5;241m.\u001b[39mdtype)\n",
      "File \u001b[0;32m~/.local/lib/python3.10/site-packages/scipy/sparse/_index.py:156\u001b[0m, in \u001b[0;36mIndexMixin._validate_indices\u001b[0;34m(self, key)\u001b[0m\n\u001b[1;32m    154\u001b[0m         row \u001b[38;5;241m+\u001b[39m\u001b[38;5;241m=\u001b[39m M\n\u001b[1;32m    155\u001b[0m \u001b[38;5;28;01melif\u001b[39;00m \u001b[38;5;129;01mnot\u001b[39;00m \u001b[38;5;28misinstance\u001b[39m(row, \u001b[38;5;28mslice\u001b[39m):\n\u001b[0;32m--> 156\u001b[0m     row \u001b[38;5;241m=\u001b[39m \u001b[38;5;28;43mself\u001b[39;49m\u001b[38;5;241;43m.\u001b[39;49m\u001b[43m_asindices\u001b[49m\u001b[43m(\u001b[49m\u001b[43mrow\u001b[49m\u001b[43m,\u001b[49m\u001b[43m \u001b[49m\u001b[43mM\u001b[49m\u001b[43m)\u001b[49m\n\u001b[1;32m    158\u001b[0m \u001b[38;5;28;01mif\u001b[39;00m isintlike(col):\n\u001b[1;32m    159\u001b[0m     col \u001b[38;5;241m=\u001b[39m \u001b[38;5;28mint\u001b[39m(col)\n",
      "File \u001b[0;32m~/.local/lib/python3.10/site-packages/scipy/sparse/_index.py:180\u001b[0m, in \u001b[0;36mIndexMixin._asindices\u001b[0;34m(self, idx, length)\u001b[0m\n\u001b[1;32m    177\u001b[0m     \u001b[38;5;28;01mraise\u001b[39;00m \u001b[38;5;167;01mIndexError\u001b[39;00m(\u001b[38;5;124m'\u001b[39m\u001b[38;5;124minvalid index\u001b[39m\u001b[38;5;124m'\u001b[39m) \u001b[38;5;28;01mfrom\u001b[39;00m \u001b[38;5;21;01me\u001b[39;00m\n\u001b[1;32m    179\u001b[0m \u001b[38;5;28;01mif\u001b[39;00m x\u001b[38;5;241m.\u001b[39mndim \u001b[38;5;129;01mnot\u001b[39;00m \u001b[38;5;129;01min\u001b[39;00m (\u001b[38;5;241m1\u001b[39m, \u001b[38;5;241m2\u001b[39m):\n\u001b[0;32m--> 180\u001b[0m     \u001b[38;5;28;01mraise\u001b[39;00m \u001b[38;5;167;01mIndexError\u001b[39;00m(\u001b[38;5;124m'\u001b[39m\u001b[38;5;124mIndex dimension must be 1 or 2\u001b[39m\u001b[38;5;124m'\u001b[39m)\n\u001b[1;32m    182\u001b[0m \u001b[38;5;28;01mif\u001b[39;00m x\u001b[38;5;241m.\u001b[39msize \u001b[38;5;241m==\u001b[39m \u001b[38;5;241m0\u001b[39m:\n\u001b[1;32m    183\u001b[0m     \u001b[38;5;28;01mreturn\u001b[39;00m x\n",
      "\u001b[0;31mIndexError\u001b[0m: Index dimension must be 1 or 2"
     ]
    }
   ],
   "source": [
    "\n",
    "categorical_features_kept = ['authors', 'categories', 'publisher']\n",
    "\n",
    "\n",
    "numeric_features_kept = ['Price', 'review/helpfulness', 'ratingsCount']\n",
    "\n",
    "\n",
    "# train, test split\n",
    "X_train, X_test, y_train, y_test = train_test_split(X, y, random_state=307)\n",
    "\n",
    "# numeric_transformer = Pipeline(steps=[\n",
    "#    ('imputer', SimpleImputer(strategy='median')), \n",
    "#    # ('poly', PolynomialFeatures(include_bias=False)),\n",
    "#    ('scaler', StandardScaler())                 \n",
    "# ])\n",
    "\n",
    "\n",
    "# categorical_transformer = Pipeline(steps=[\n",
    "#    ('imputer', SimpleImputer(strategy='most_frequent')), \n",
    "#    ('onehot', OneHotEncoder(handle_unknown='ignore')),   \n",
    "# ])\n",
    "\n",
    "\n",
    "# preprocessor = ColumnTransformer(transformers=[\n",
    "#        ('num', numeric_transformer, numeric_features_kept),     \n",
    "#        ('cat', categorical_transformer, categorical_features_kept) \n",
    "#    ])\n",
    "\n",
    "\n",
    "# pipe = Pipeline(steps=[\n",
    "#    ('preprocessor', preprocessor)\n",
    "# ])\n",
    "\n",
    "pipe_num = Pipeline(steps=[\n",
    "   ('imputer', SimpleImputer(strategy='median')), \n",
    "   # ('poly', PolynomialFeatures(include_bias=False)),\n",
    "   ('scaler', StandardScaler()) \n",
    "])\n",
    "\n",
    "pipe_cat = Pipeline(steps=[\n",
    "   ('imputer', SimpleImputer(strategy='most_frequent')), \n",
    "   ('onehot', OneHotEncoder(handle_unknown='ignore')),   \n",
    "])\n",
    "\n",
    "Xpp_num = pipe_num.fit_transform(X_train)\n",
    "Xpp_num['parsedDate'] = X_train['parsedDate']\n",
    "Xpp_test['parsedDate'] = X_test['parsedDate']\n",
    "Xpp['review/time'] = X_train['review/time']\n",
    "Xpp_test['review/time'] = X_test['review/time']\n",
    "# Transform x_test now\n",
    "\n",
    "Xpp_test = pipe_num.transform(Xpp_num)\n",
    "\n",
    "# 'parsedDate', 'review/time'\n"
   ]
  },
  {
   "cell_type": "code",
   "execution_count": 45,
   "metadata": {},
   "outputs": [
    {
     "data": {
      "text/plain": [
       "<19589x12812 sparse matrix of type '<class 'numpy.float64'>'\n",
       "\twith 117534 stored elements in Compressed Sparse Row format>"
      ]
     },
     "execution_count": 45,
     "metadata": {},
     "output_type": "execute_result"
    }
   ],
   "source": [
    "Xpp"
   ]
  },
  {
   "cell_type": "code",
   "execution_count": 42,
   "metadata": {},
   "outputs": [
    {
     "ename": "InvalidParameterError",
     "evalue": "The 'criterion' parameter of RandomForestRegressor must be a str among {'absolute_error', 'squared_error', 'friedman_mse', 'poisson'}. Got 'gini' instead.",
     "output_type": "error",
     "traceback": [
      "\u001b[0;31m---------------------------------------------------------------------------\u001b[0m",
      "\u001b[0;31mInvalidParameterError\u001b[0m                     Traceback (most recent call last)",
      "Cell \u001b[0;32mIn[42], line 2\u001b[0m\n\u001b[1;32m      1\u001b[0m treemod \u001b[38;5;241m=\u001b[39m RandomForestRegressor(n_estimators\u001b[38;5;241m=\u001b[39m\u001b[38;5;241m200\u001b[39m,criterion\u001b[38;5;241m=\u001b[39m\u001b[38;5;124m'\u001b[39m\u001b[38;5;124mgini\u001b[39m\u001b[38;5;124m'\u001b[39m,max_depth\u001b[38;5;241m=\u001b[39m\u001b[38;5;241m10\u001b[39m)\n\u001b[0;32m----> 2\u001b[0m fimmod \u001b[38;5;241m=\u001b[39m \u001b[43mtreemod\u001b[49m\u001b[38;5;241;43m.\u001b[39;49m\u001b[43mfit\u001b[49m\u001b[43m(\u001b[49m\u001b[43mXpp\u001b[49m\u001b[43m,\u001b[49m\u001b[43m \u001b[49m\u001b[43my_train\u001b[49m\u001b[43m)\u001b[49m\n",
      "File \u001b[0;32m~/.local/lib/python3.10/site-packages/sklearn/base.py:1144\u001b[0m, in \u001b[0;36m_fit_context.<locals>.decorator.<locals>.wrapper\u001b[0;34m(estimator, *args, **kwargs)\u001b[0m\n\u001b[1;32m   1139\u001b[0m partial_fit_and_fitted \u001b[38;5;241m=\u001b[39m (\n\u001b[1;32m   1140\u001b[0m     fit_method\u001b[38;5;241m.\u001b[39m\u001b[38;5;18m__name__\u001b[39m \u001b[38;5;241m==\u001b[39m \u001b[38;5;124m\"\u001b[39m\u001b[38;5;124mpartial_fit\u001b[39m\u001b[38;5;124m\"\u001b[39m \u001b[38;5;129;01mand\u001b[39;00m _is_fitted(estimator)\n\u001b[1;32m   1141\u001b[0m )\n\u001b[1;32m   1143\u001b[0m \u001b[38;5;28;01mif\u001b[39;00m \u001b[38;5;129;01mnot\u001b[39;00m global_skip_validation \u001b[38;5;129;01mand\u001b[39;00m \u001b[38;5;129;01mnot\u001b[39;00m partial_fit_and_fitted:\n\u001b[0;32m-> 1144\u001b[0m     \u001b[43mestimator\u001b[49m\u001b[38;5;241;43m.\u001b[39;49m\u001b[43m_validate_params\u001b[49m\u001b[43m(\u001b[49m\u001b[43m)\u001b[49m\n\u001b[1;32m   1146\u001b[0m \u001b[38;5;28;01mwith\u001b[39;00m config_context(\n\u001b[1;32m   1147\u001b[0m     skip_parameter_validation\u001b[38;5;241m=\u001b[39m(\n\u001b[1;32m   1148\u001b[0m         prefer_skip_nested_validation \u001b[38;5;129;01mor\u001b[39;00m global_skip_validation\n\u001b[1;32m   1149\u001b[0m     )\n\u001b[1;32m   1150\u001b[0m ):\n\u001b[1;32m   1151\u001b[0m     \u001b[38;5;28;01mreturn\u001b[39;00m fit_method(estimator, \u001b[38;5;241m*\u001b[39margs, \u001b[38;5;241m*\u001b[39m\u001b[38;5;241m*\u001b[39mkwargs)\n",
      "File \u001b[0;32m~/.local/lib/python3.10/site-packages/sklearn/base.py:637\u001b[0m, in \u001b[0;36mBaseEstimator._validate_params\u001b[0;34m(self)\u001b[0m\n\u001b[1;32m    629\u001b[0m \u001b[38;5;28;01mdef\u001b[39;00m \u001b[38;5;21m_validate_params\u001b[39m(\u001b[38;5;28mself\u001b[39m):\n\u001b[1;32m    630\u001b[0m \u001b[38;5;250m    \u001b[39m\u001b[38;5;124;03m\"\"\"Validate types and values of constructor parameters\u001b[39;00m\n\u001b[1;32m    631\u001b[0m \n\u001b[1;32m    632\u001b[0m \u001b[38;5;124;03m    The expected type and values must be defined in the `_parameter_constraints`\u001b[39;00m\n\u001b[0;32m   (...)\u001b[0m\n\u001b[1;32m    635\u001b[0m \u001b[38;5;124;03m    accepted constraints.\u001b[39;00m\n\u001b[1;32m    636\u001b[0m \u001b[38;5;124;03m    \"\"\"\u001b[39;00m\n\u001b[0;32m--> 637\u001b[0m     \u001b[43mvalidate_parameter_constraints\u001b[49m\u001b[43m(\u001b[49m\n\u001b[1;32m    638\u001b[0m \u001b[43m        \u001b[49m\u001b[38;5;28;43mself\u001b[39;49m\u001b[38;5;241;43m.\u001b[39;49m\u001b[43m_parameter_constraints\u001b[49m\u001b[43m,\u001b[49m\n\u001b[1;32m    639\u001b[0m \u001b[43m        \u001b[49m\u001b[38;5;28;43mself\u001b[39;49m\u001b[38;5;241;43m.\u001b[39;49m\u001b[43mget_params\u001b[49m\u001b[43m(\u001b[49m\u001b[43mdeep\u001b[49m\u001b[38;5;241;43m=\u001b[39;49m\u001b[38;5;28;43;01mFalse\u001b[39;49;00m\u001b[43m)\u001b[49m\u001b[43m,\u001b[49m\n\u001b[1;32m    640\u001b[0m \u001b[43m        \u001b[49m\u001b[43mcaller_name\u001b[49m\u001b[38;5;241;43m=\u001b[39;49m\u001b[38;5;28;43mself\u001b[39;49m\u001b[38;5;241;43m.\u001b[39;49m\u001b[38;5;18;43m__class__\u001b[39;49m\u001b[38;5;241;43m.\u001b[39;49m\u001b[38;5;18;43m__name__\u001b[39;49m\u001b[43m,\u001b[49m\n\u001b[1;32m    641\u001b[0m \u001b[43m    \u001b[49m\u001b[43m)\u001b[49m\n",
      "File \u001b[0;32m~/.local/lib/python3.10/site-packages/sklearn/utils/_param_validation.py:95\u001b[0m, in \u001b[0;36mvalidate_parameter_constraints\u001b[0;34m(parameter_constraints, params, caller_name)\u001b[0m\n\u001b[1;32m     89\u001b[0m \u001b[38;5;28;01melse\u001b[39;00m:\n\u001b[1;32m     90\u001b[0m     constraints_str \u001b[38;5;241m=\u001b[39m (\n\u001b[1;32m     91\u001b[0m         \u001b[38;5;124mf\u001b[39m\u001b[38;5;124m\"\u001b[39m\u001b[38;5;132;01m{\u001b[39;00m\u001b[38;5;124m'\u001b[39m\u001b[38;5;124m, \u001b[39m\u001b[38;5;124m'\u001b[39m\u001b[38;5;241m.\u001b[39mjoin([\u001b[38;5;28mstr\u001b[39m(c)\u001b[38;5;250m \u001b[39m\u001b[38;5;28;01mfor\u001b[39;00m\u001b[38;5;250m \u001b[39mc\u001b[38;5;250m \u001b[39m\u001b[38;5;129;01min\u001b[39;00m\u001b[38;5;250m \u001b[39mconstraints[:\u001b[38;5;241m-\u001b[39m\u001b[38;5;241m1\u001b[39m]])\u001b[38;5;132;01m}\u001b[39;00m\u001b[38;5;124m or\u001b[39m\u001b[38;5;124m\"\u001b[39m\n\u001b[1;32m     92\u001b[0m         \u001b[38;5;124mf\u001b[39m\u001b[38;5;124m\"\u001b[39m\u001b[38;5;124m \u001b[39m\u001b[38;5;132;01m{\u001b[39;00mconstraints[\u001b[38;5;241m-\u001b[39m\u001b[38;5;241m1\u001b[39m]\u001b[38;5;132;01m}\u001b[39;00m\u001b[38;5;124m\"\u001b[39m\n\u001b[1;32m     93\u001b[0m     )\n\u001b[0;32m---> 95\u001b[0m \u001b[38;5;28;01mraise\u001b[39;00m InvalidParameterError(\n\u001b[1;32m     96\u001b[0m     \u001b[38;5;124mf\u001b[39m\u001b[38;5;124m\"\u001b[39m\u001b[38;5;124mThe \u001b[39m\u001b[38;5;132;01m{\u001b[39;00mparam_name\u001b[38;5;132;01m!r}\u001b[39;00m\u001b[38;5;124m parameter of \u001b[39m\u001b[38;5;132;01m{\u001b[39;00mcaller_name\u001b[38;5;132;01m}\u001b[39;00m\u001b[38;5;124m must be\u001b[39m\u001b[38;5;124m\"\u001b[39m\n\u001b[1;32m     97\u001b[0m     \u001b[38;5;124mf\u001b[39m\u001b[38;5;124m\"\u001b[39m\u001b[38;5;124m \u001b[39m\u001b[38;5;132;01m{\u001b[39;00mconstraints_str\u001b[38;5;132;01m}\u001b[39;00m\u001b[38;5;124m. Got \u001b[39m\u001b[38;5;132;01m{\u001b[39;00mparam_val\u001b[38;5;132;01m!r}\u001b[39;00m\u001b[38;5;124m instead.\u001b[39m\u001b[38;5;124m\"\u001b[39m\n\u001b[1;32m     98\u001b[0m )\n",
      "\u001b[0;31mInvalidParameterError\u001b[0m: The 'criterion' parameter of RandomForestRegressor must be a str among {'absolute_error', 'squared_error', 'friedman_mse', 'poisson'}. Got 'gini' instead."
     ]
    }
   ],
   "source": [
    "treemod = RandomForestRegressor(n_estimators=200,criterion='gini',max_depth=10)\n",
    "fimmod = treemod.fit(Xpp, y_train)"
   ]
  }
 ],
 "metadata": {
  "kernelspec": {
   "display_name": "Python 3",
   "language": "python",
   "name": "python3"
  },
  "language_info": {
   "codemirror_mode": {
    "name": "ipython",
    "version": 3
   },
   "file_extension": ".py",
   "mimetype": "text/x-python",
   "name": "python",
   "nbconvert_exporter": "python",
   "pygments_lexer": "ipython3",
   "version": "3.10.12"
  },
  "orig_nbformat": 4
 },
 "nbformat": 4,
 "nbformat_minor": 2
}
